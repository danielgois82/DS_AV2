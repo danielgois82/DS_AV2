{
 "cells": [
  {
   "cell_type": "markdown",
   "id": "97063cfc",
   "metadata": {},
   "source": [
    "# Relatórios do Orçamento de Autoridade Monetária\n",
    "\n",
    "## Execução Orçamentária por Pares Código-Conta por ano\n",
    "\n",
    "A execução orçamentária por pares código-conta por ano refere-se ao acompanhamento da utilização dos recursos financeiros e créditos consignados no orçamento público, detalhados por códigos e contas específicos, ao longo de um ano fiscal. Este acompanhamento é fundamental para monitorar a aplicação das despesas públicas e garantir a conformidade com as leis e regulamentos, de acordo com a Lei nº 4.320/1964.\n",
    "\n",
    "O ano usado foi o de 2024\n",
    "\n",
    "Detalhes:\n",
    "\n",
    "Execução Orçamentária:\n",
    "É o processo de utilizar os recursos financeiros e créditos (dotações) que foram aprovados no orçamento público para financiar as ações e projetos previstos. \n",
    "\n",
    "Pares Código-Conta:\n",
    "Cada despesa pública é classificada e identificada por meio de códigos e contas, que permitem rastrear a origem e o destino dos recursos. \n",
    "\n",
    "Por Ano:\n",
    "Acompanha a execução orçamentária ao longo de um ano fiscal, permitindo avaliar o progresso das ações e a gestão dos recursos públicos. \n",
    "\n",
    "Estágios da Execução da Despesa:\n",
    "A execução da despesa orçamentária ocorre em três estágios: empenho (criação da obrigação de pagamento), liquidação (confirmação da dívida) e pagamento (efetivação do desembolso). \n",
    "\n",
    "Como acompanhar:\n",
    "\n",
    "Portal da Transparência:\n",
    "Muitos órgãos governamentais disponibilizam relatórios e dados sobre a execução orçamentária em portais de transparência, como o Portal da Transparência do Governo Federal. \n",
    "\n",
    "Relatórios Resumidos da Execução Orçamentária (RREO):\n",
    "Os RREO são publicações que apresentam informações consolidadas sobre a execução orçamentária, como o Relatório Resumido da Execução Orçamentária (RREO) - União. \n",
    "\n",
    "Acompanhamento pela Assembleia Legislativa:\n",
    "Em alguns estados, as Assembleias Legislativas também exercem o acompanhamento e fiscalização da execução orçamentária através de comissões específicas, como a Comissão de Acompanhamento da Execução Orçamentária da ALEMS. \n",
    "\n",
    "Relevância:\n",
    "Acompanhar a execução orçamentária por pares código-conta por ano é essencial para garantir a transparência e a boa gestão dos recursos públicos, permitindo que cidadãos e órgãos de controle fiscalizem a aplicação das despesas e identifiquem possíveis irregularidades.\n",
    "\n",
    "Dicionário de dados:\n",
    "\n",
    "| Nome                     | Tipo     | Título                                       | Descrição                                                                                                                                       |\n",
    "|--------------------------|----------|----------------------------------------------|--------------------------------------------------------------------------------------------------------------------------------------------------|\n",
    "| Ano                      | inteiro  | Ano                                          | Informa o ano do exercício a ser consultado.                                                                                                     |\n",
    "| Codigo                   | texto    | Código Orçamentário                          | O código orçamentário é um instrumento interno que agrega as informações de planejamento e controle das operações de autoridade monetária.     |\n",
    "| Unidade                  | texto    | Unidade                                      | Informa a qual departamento do Banco Central corresponde a despesa.                                                                             |\n",
    "| Diretoria                | texto    | Diretoria                                    | Informa a qual Diretoria do Banco Central corresponde a despesa.                                                                                |\n",
    "| Praca                    | texto    | Praça                                        | Informa em qual representação do Banco Central a despesa foi realizada.                                                                         |\n",
    "| Conta                    | texto    | Conta                                        | Informa o número da conta constante do Plano Geral de Contas do Banco Central.                                                                  |\n",
    "| ContaNiveisSuperiores    | texto    | Contas de Nível superior à Conta Escolhida   | Informa a hierarquia e desdobramentos de uma conta que não são níveis de escrituração (subtítulo, título, subgrupo e grupo).                   |\n",
    "| ContaDescricao           | texto    | Descrição da conta                           | Informa de maneira detalhada o objeto de gasto da conta.                                                                                        |\n",
    "| ContaTipo                | texto    | Tipo da Conta                                | Informa se a conta é de receita ou despesa.                                                                                                     |\n",
    "| ContaEstatisticaFiscal   | texto    | Estatística fiscal da conta                  | Informa se a conta é de natureza primária ou financeira.                                                                                        |\n",
    "| EstatisticaFiscalContaOrdem | inteiro | Ordem da estatística fiscal da conta         | Informa a ordem de apresentação da estatística fiscal da conta.                                                                                 |\n",
    "| ContaGrupo               | texto    | Grupo da Conta                               | Informa em qual operação da Autoridade Monetária a despesa ou receita se enquadra: área externa, mercado aberto, área bancária, etc.           |\n",
    "| GrupoContaOrdem          | inteiro  | Ordem do grupo da conta                      | Informa a ordem de apresentação do grupo da conta.                                                                                               |\n",
    "| ContaSubgrupo            | texto    | Subgrupo da conta                            | Informa a operação contábil em que a despesa ou receita se enquadra: juros, ajuste a valor justo, correção cambial ou demais receitas/despesas.|\n",
    "| SubgrupoContaOrdem       | inteiro  | Ordem do subgrupo da conta                   | Informa a ordem de apresentação do subgrupo da conta.                                                                                           |\n",
    "| ContaFuncao              | texto    | Função da Conta                              | Informa, de forma detalhada, quais são e as principais características das operações que uma conta registra.                                   |\n",
    "| ValorDotacao             | decimal  | Liberado                                     | Informa a parcela da dotação disponível no par código conta para empenho (R$).                                                                  |\n",
    "| ValorEmpenhado           | decimal  | Empenhado                                    | Informa a parcela da dotação reservada (empenhada) para execução de despesa específica (R$).                                                    |\n",
    "| ValorLiquidado           | decimal  | Liquidado                                    | Informa o valor da despesa lançada na contabilidade após o fornecedor ou prestador de serviços cumprir com suas obrigações contratuais (R$).   |\n",
    "| ValorPago                | decimal  | Pago                                         | Informa o valor final pago aos fornecedores pelo bem ou serviço contratado (R$).                                                                |"
   ]
  },
  {
   "cell_type": "markdown",
   "id": "42979d45",
   "metadata": {},
   "source": [
    "## Análise Exploratória"
   ]
  },
  {
   "cell_type": "code",
   "execution_count": 91,
   "id": "d9a0c42b",
   "metadata": {},
   "outputs": [],
   "source": [
    "import pandas as pd\n",
    "import sqlite3\n",
    "import locale\n",
    "\n",
    "locale.setlocale(locale.LC_ALL, 'Portuguese_Brazil.1252')\n",
    "pd.options.display.float_format = '{:,.2f}'.format\n",
    "\n",
    "con = sqlite3.connect(\"src/datasets/oam.db\")\n",
    "query = \"select * from oam\"\n",
    "df = pd.read_sql(query, con)\n",
    "con.close()"
   ]
  },
  {
   "cell_type": "code",
   "execution_count": 92,
   "id": "9feb6bf5",
   "metadata": {},
   "outputs": [
    {
     "data": {
      "text/html": [
       "<div>\n",
       "<style scoped>\n",
       "    .dataframe tbody tr th:only-of-type {\n",
       "        vertical-align: middle;\n",
       "    }\n",
       "\n",
       "    .dataframe tbody tr th {\n",
       "        vertical-align: top;\n",
       "    }\n",
       "\n",
       "    .dataframe thead th {\n",
       "        text-align: right;\n",
       "    }\n",
       "</style>\n",
       "<table border=\"1\" class=\"dataframe\">\n",
       "  <thead>\n",
       "    <tr style=\"text-align: right;\">\n",
       "      <th></th>\n",
       "      <th>Ano</th>\n",
       "      <th>Codigo</th>\n",
       "      <th>Unidade</th>\n",
       "      <th>Diretoria</th>\n",
       "      <th>Praca</th>\n",
       "      <th>Conta</th>\n",
       "      <th>ContaNiveisSuperiores</th>\n",
       "      <th>ContaDescricao</th>\n",
       "      <th>ContaTipo</th>\n",
       "      <th>ContaEstatisticaFiscal</th>\n",
       "      <th>EstatisticaFiscalContaOrdem</th>\n",
       "      <th>ContaGrupo</th>\n",
       "      <th>GrupoContaOrdem</th>\n",
       "      <th>ContaSubgrupo</th>\n",
       "      <th>SubgrupoContaOrdem</th>\n",
       "      <th>ContaFuncao</th>\n",
       "      <th>ValorDotacao</th>\n",
       "      <th>ValorEmpenhado</th>\n",
       "      <th>ValorLiquidado</th>\n",
       "      <th>ValorPago</th>\n",
       "    </tr>\n",
       "  </thead>\n",
       "  <tbody>\n",
       "    <tr>\n",
       "      <th>0</th>\n",
       "      <td>2024</td>\n",
       "      <td>683910012</td>\n",
       "      <td>MECIR</td>\n",
       "      <td>DIRAD</td>\n",
       "      <td>68 PORTO ALEGRE-RS</td>\n",
       "      <td>393903041</td>\n",
       "      <td>DISTRIBUIÇÃO DE NUMERÁRIO\\nCONTAS DE RESULTADO...</td>\n",
       "      <td>393903041 - RECEBIMENTO DE REMESSA E MOVIMENTA...</td>\n",
       "      <td>Despesa</td>\n",
       "      <td>Primário</td>\n",
       "      <td>2</td>\n",
       "      <td>Meio Circulante</td>\n",
       "      <td>5</td>\n",
       "      <td>Distribuição de numerário</td>\n",
       "      <td>7</td>\n",
       "      <td>Registra as despesas decorrentes do recebiment...</td>\n",
       "      <td>38,090.77</td>\n",
       "      <td>38,090.77</td>\n",
       "      <td>38,090.77</td>\n",
       "      <td>38,090.77</td>\n",
       "    </tr>\n",
       "    <tr>\n",
       "      <th>1</th>\n",
       "      <td>2024</td>\n",
       "      <td>402510019</td>\n",
       "      <td>DEPIN</td>\n",
       "      <td>DIPOM</td>\n",
       "      <td>40 BRASILIA-DF</td>\n",
       "      <td>3359019</td>\n",
       "      <td>DESPESAS DE CORREÇÃO CAMBIAL SOBRE ATIVOS E PA...</td>\n",
       "      <td>3359019 - ORCAMENTO DE AUTORIDADE MONETARIA - ...</td>\n",
       "      <td>Despesa</td>\n",
       "      <td>Primário</td>\n",
       "      <td>2</td>\n",
       "      <td>Área Externa</td>\n",
       "      <td>1</td>\n",
       "      <td>Correção cambial</td>\n",
       "      <td>3</td>\n",
       "      <td>None</td>\n",
       "      <td>777,039.66</td>\n",
       "      <td>777,039.66</td>\n",
       "      <td>777,039.66</td>\n",
       "      <td>777,039.66</td>\n",
       "    </tr>\n",
       "    <tr>\n",
       "      <th>2</th>\n",
       "      <td>2024</td>\n",
       "      <td>402510019</td>\n",
       "      <td>DEPIN</td>\n",
       "      <td>DIPOM</td>\n",
       "      <td>40 BRASILIA-DF</td>\n",
       "      <td>3985029</td>\n",
       "      <td>DESPESAS COM ADMINISTRAÇÃO DE       ATIVOS POR...</td>\n",
       "      <td>3985029 - TAXA DE SERVIÇOS DE CUSTÓDIA DE     ...</td>\n",
       "      <td>Despesa</td>\n",
       "      <td>Primário</td>\n",
       "      <td>2</td>\n",
       "      <td>Área Externa</td>\n",
       "      <td>1</td>\n",
       "      <td>Demais despesas</td>\n",
       "      <td>5</td>\n",
       "      <td>None</td>\n",
       "      <td>10,633,000.00</td>\n",
       "      <td>10,632,490.00</td>\n",
       "      <td>8,098,646.19</td>\n",
       "      <td>8,098,646.19</td>\n",
       "    </tr>\n",
       "    <tr>\n",
       "      <th>3</th>\n",
       "      <td>2024</td>\n",
       "      <td>402510019</td>\n",
       "      <td>DEPIN</td>\n",
       "      <td>DIPOM</td>\n",
       "      <td>40 BRASILIA-DF</td>\n",
       "      <td>399025026</td>\n",
       "      <td>ÁREA DE OPERAÇÕES DAS RESERVAS INTERNACIONAIS\\...</td>\n",
       "      <td>399025026 - SERVIÇOS DE MANUTENÇÃO DE CONTA MO...</td>\n",
       "      <td>Despesa</td>\n",
       "      <td>Primário</td>\n",
       "      <td>2</td>\n",
       "      <td>Área Externa</td>\n",
       "      <td>1</td>\n",
       "      <td>Demais despesas</td>\n",
       "      <td>5</td>\n",
       "      <td>None</td>\n",
       "      <td>503,000.00</td>\n",
       "      <td>494,938.00</td>\n",
       "      <td>228,709.46</td>\n",
       "      <td>228,709.46</td>\n",
       "    </tr>\n",
       "    <tr>\n",
       "      <th>4</th>\n",
       "      <td>2024</td>\n",
       "      <td>402510019</td>\n",
       "      <td>DEPIN</td>\n",
       "      <td>DIPOM</td>\n",
       "      <td>40 BRASILIA-DF</td>\n",
       "      <td>399025040</td>\n",
       "      <td>ÁREA DE OPERAÇÕES DAS RESERVAS INTERNACIONAIS\\...</td>\n",
       "      <td>399025040 - PROCESSAMENTO, TRANSPORTE E CUSTÓD...</td>\n",
       "      <td>Despesa</td>\n",
       "      <td>Primário</td>\n",
       "      <td>2</td>\n",
       "      <td>Área Externa</td>\n",
       "      <td>1</td>\n",
       "      <td>Demais despesas</td>\n",
       "      <td>5</td>\n",
       "      <td>Registra as despesas no exterior com o ouro da...</td>\n",
       "      <td>1,150,000.00</td>\n",
       "      <td>1,073,000.00</td>\n",
       "      <td>1,049,382.38</td>\n",
       "      <td>1,049,382.38</td>\n",
       "    </tr>\n",
       "    <tr>\n",
       "      <th>...</th>\n",
       "      <td>...</td>\n",
       "      <td>...</td>\n",
       "      <td>...</td>\n",
       "      <td>...</td>\n",
       "      <td>...</td>\n",
       "      <td>...</td>\n",
       "      <td>...</td>\n",
       "      <td>...</td>\n",
       "      <td>...</td>\n",
       "      <td>...</td>\n",
       "      <td>...</td>\n",
       "      <td>...</td>\n",
       "      <td>...</td>\n",
       "      <td>...</td>\n",
       "      <td>...</td>\n",
       "      <td>...</td>\n",
       "      <td>...</td>\n",
       "      <td>...</td>\n",
       "      <td>...</td>\n",
       "      <td>...</td>\n",
       "    </tr>\n",
       "    <tr>\n",
       "      <th>328</th>\n",
       "      <td>2024</td>\n",
       "      <td>401300000</td>\n",
       "      <td>DEAFI</td>\n",
       "      <td>DIRAD</td>\n",
       "      <td>40 BRASILIA-DF</td>\n",
       "      <td>890504039</td>\n",
       "      <td>RECEITAS DE ENCARGOS E CUSTOS FINANCEIROS EM M...</td>\n",
       "      <td>890504039 - DEFICIÊNCIA DIÁRIA NO RECOLHIMENTO...</td>\n",
       "      <td>Receita</td>\n",
       "      <td>Financeiro</td>\n",
       "      <td>1</td>\n",
       "      <td>Outras Operações</td>\n",
       "      <td>6</td>\n",
       "      <td>Demais receitas</td>\n",
       "      <td>4</td>\n",
       "      <td>None</td>\n",
       "      <td>283,906.15</td>\n",
       "      <td>0.00</td>\n",
       "      <td>283,906.15</td>\n",
       "      <td>283,906.15</td>\n",
       "    </tr>\n",
       "    <tr>\n",
       "      <th>329</th>\n",
       "      <td>2024</td>\n",
       "      <td>401300000</td>\n",
       "      <td>DEAFI</td>\n",
       "      <td>DIRAD</td>\n",
       "      <td>40 BRASILIA-DF</td>\n",
       "      <td>8416081</td>\n",
       "      <td>RECEITAS DE JUROS COM CRÉDITOS A RECEBER EM MO...</td>\n",
       "      <td>8416081 - ENCARGOS E CUSTOS FINANCEIROS</td>\n",
       "      <td>Receita</td>\n",
       "      <td>Financeiro</td>\n",
       "      <td>1</td>\n",
       "      <td>Outras Operações</td>\n",
       "      <td>6</td>\n",
       "      <td>Juros</td>\n",
       "      <td>1</td>\n",
       "      <td>None</td>\n",
       "      <td>907,598.60</td>\n",
       "      <td>0.00</td>\n",
       "      <td>907,598.60</td>\n",
       "      <td>907,598.60</td>\n",
       "    </tr>\n",
       "    <tr>\n",
       "      <th>330</th>\n",
       "      <td>2024</td>\n",
       "      <td>401300000</td>\n",
       "      <td>DEAFI</td>\n",
       "      <td>DIRAD</td>\n",
       "      <td>40 BRASILIA-DF</td>\n",
       "      <td>8986085</td>\n",
       "      <td>CONTAS DE RESULTADO - RECEITAS\\nOUTRAS RECEITA...</td>\n",
       "      <td>8986085 - SOBRE ENCARGOS FINANCEIROS</td>\n",
       "      <td>Receita</td>\n",
       "      <td>Financeiro</td>\n",
       "      <td>1</td>\n",
       "      <td>Outras Operações</td>\n",
       "      <td>6</td>\n",
       "      <td>Demais receitas</td>\n",
       "      <td>4</td>\n",
       "      <td>None</td>\n",
       "      <td>6,287.50</td>\n",
       "      <td>0.00</td>\n",
       "      <td>6,287.50</td>\n",
       "      <td>6,287.50</td>\n",
       "    </tr>\n",
       "    <tr>\n",
       "      <th>331</th>\n",
       "      <td>2024</td>\n",
       "      <td>401300000</td>\n",
       "      <td>DEAFI</td>\n",
       "      <td>DIRAD</td>\n",
       "      <td>40 BRASILIA-DF</td>\n",
       "      <td>890505100</td>\n",
       "      <td>RECEITAS DE ENCARGOS E CUSTOS FINANCEIROS EM M...</td>\n",
       "      <td>890505100 - DEFICIÊNCIA NO CUMPRIMENTO DAS EXI...</td>\n",
       "      <td>Receita</td>\n",
       "      <td>Financeiro</td>\n",
       "      <td>1</td>\n",
       "      <td>Outras Operações</td>\n",
       "      <td>6</td>\n",
       "      <td>Demais receitas</td>\n",
       "      <td>4</td>\n",
       "      <td>None</td>\n",
       "      <td>7,189,374.56</td>\n",
       "      <td>0.00</td>\n",
       "      <td>7,189,374.56</td>\n",
       "      <td>7,189,374.56</td>\n",
       "    </tr>\n",
       "    <tr>\n",
       "      <th>332</th>\n",
       "      <td>2024</td>\n",
       "      <td>401300000</td>\n",
       "      <td>DEAFI</td>\n",
       "      <td>DIRAD</td>\n",
       "      <td>40 BRASILIA-DF</td>\n",
       "      <td>841630062</td>\n",
       "      <td>RECEITAS DE JUROS COM CRÉDITOS A RECEBER EM MO...</td>\n",
       "      <td>841630062 - SERVIDORES, APOSENTADOS E PENSIONI...</td>\n",
       "      <td>Receita</td>\n",
       "      <td>Financeiro</td>\n",
       "      <td>1</td>\n",
       "      <td>Outras Operações</td>\n",
       "      <td>6</td>\n",
       "      <td>Juros</td>\n",
       "      <td>1</td>\n",
       "      <td>None</td>\n",
       "      <td>2,064.88</td>\n",
       "      <td>0.00</td>\n",
       "      <td>2,064.88</td>\n",
       "      <td>2,064.88</td>\n",
       "    </tr>\n",
       "  </tbody>\n",
       "</table>\n",
       "<p>333 rows × 20 columns</p>\n",
       "</div>"
      ],
      "text/plain": [
       "      Ano     Codigo Unidade Diretoria               Praca      Conta  \\\n",
       "0    2024  683910012   MECIR     DIRAD  68 PORTO ALEGRE-RS  393903041   \n",
       "1    2024  402510019   DEPIN     DIPOM      40 BRASILIA-DF    3359019   \n",
       "2    2024  402510019   DEPIN     DIPOM      40 BRASILIA-DF    3985029   \n",
       "3    2024  402510019   DEPIN     DIPOM      40 BRASILIA-DF  399025026   \n",
       "4    2024  402510019   DEPIN     DIPOM      40 BRASILIA-DF  399025040   \n",
       "..    ...        ...     ...       ...                 ...        ...   \n",
       "328  2024  401300000   DEAFI     DIRAD      40 BRASILIA-DF  890504039   \n",
       "329  2024  401300000   DEAFI     DIRAD      40 BRASILIA-DF    8416081   \n",
       "330  2024  401300000   DEAFI     DIRAD      40 BRASILIA-DF    8986085   \n",
       "331  2024  401300000   DEAFI     DIRAD      40 BRASILIA-DF  890505100   \n",
       "332  2024  401300000   DEAFI     DIRAD      40 BRASILIA-DF  841630062   \n",
       "\n",
       "                                 ContaNiveisSuperiores  \\\n",
       "0    DISTRIBUIÇÃO DE NUMERÁRIO\\nCONTAS DE RESULTADO...   \n",
       "1    DESPESAS DE CORREÇÃO CAMBIAL SOBRE ATIVOS E PA...   \n",
       "2    DESPESAS COM ADMINISTRAÇÃO DE       ATIVOS POR...   \n",
       "3    ÁREA DE OPERAÇÕES DAS RESERVAS INTERNACIONAIS\\...   \n",
       "4    ÁREA DE OPERAÇÕES DAS RESERVAS INTERNACIONAIS\\...   \n",
       "..                                                 ...   \n",
       "328  RECEITAS DE ENCARGOS E CUSTOS FINANCEIROS EM M...   \n",
       "329  RECEITAS DE JUROS COM CRÉDITOS A RECEBER EM MO...   \n",
       "330  CONTAS DE RESULTADO - RECEITAS\\nOUTRAS RECEITA...   \n",
       "331  RECEITAS DE ENCARGOS E CUSTOS FINANCEIROS EM M...   \n",
       "332  RECEITAS DE JUROS COM CRÉDITOS A RECEBER EM MO...   \n",
       "\n",
       "                                        ContaDescricao ContaTipo  \\\n",
       "0    393903041 - RECEBIMENTO DE REMESSA E MOVIMENTA...   Despesa   \n",
       "1    3359019 - ORCAMENTO DE AUTORIDADE MONETARIA - ...   Despesa   \n",
       "2    3985029 - TAXA DE SERVIÇOS DE CUSTÓDIA DE     ...   Despesa   \n",
       "3    399025026 - SERVIÇOS DE MANUTENÇÃO DE CONTA MO...   Despesa   \n",
       "4    399025040 - PROCESSAMENTO, TRANSPORTE E CUSTÓD...   Despesa   \n",
       "..                                                 ...       ...   \n",
       "328  890504039 - DEFICIÊNCIA DIÁRIA NO RECOLHIMENTO...   Receita   \n",
       "329            8416081 - ENCARGOS E CUSTOS FINANCEIROS   Receita   \n",
       "330               8986085 - SOBRE ENCARGOS FINANCEIROS   Receita   \n",
       "331  890505100 - DEFICIÊNCIA NO CUMPRIMENTO DAS EXI...   Receita   \n",
       "332  841630062 - SERVIDORES, APOSENTADOS E PENSIONI...   Receita   \n",
       "\n",
       "    ContaEstatisticaFiscal  EstatisticaFiscalContaOrdem        ContaGrupo  \\\n",
       "0                 Primário                            2   Meio Circulante   \n",
       "1                 Primário                            2      Área Externa   \n",
       "2                 Primário                            2      Área Externa   \n",
       "3                 Primário                            2      Área Externa   \n",
       "4                 Primário                            2      Área Externa   \n",
       "..                     ...                          ...               ...   \n",
       "328             Financeiro                            1  Outras Operações   \n",
       "329             Financeiro                            1  Outras Operações   \n",
       "330             Financeiro                            1  Outras Operações   \n",
       "331             Financeiro                            1  Outras Operações   \n",
       "332             Financeiro                            1  Outras Operações   \n",
       "\n",
       "     GrupoContaOrdem              ContaSubgrupo  SubgrupoContaOrdem  \\\n",
       "0                  5  Distribuição de numerário                   7   \n",
       "1                  1           Correção cambial                   3   \n",
       "2                  1            Demais despesas                   5   \n",
       "3                  1            Demais despesas                   5   \n",
       "4                  1            Demais despesas                   5   \n",
       "..               ...                        ...                 ...   \n",
       "328                6            Demais receitas                   4   \n",
       "329                6                      Juros                   1   \n",
       "330                6            Demais receitas                   4   \n",
       "331                6            Demais receitas                   4   \n",
       "332                6                      Juros                   1   \n",
       "\n",
       "                                           ContaFuncao  ValorDotacao  \\\n",
       "0    Registra as despesas decorrentes do recebiment...     38,090.77   \n",
       "1                                                 None    777,039.66   \n",
       "2                                                 None 10,633,000.00   \n",
       "3                                                 None    503,000.00   \n",
       "4    Registra as despesas no exterior com o ouro da...  1,150,000.00   \n",
       "..                                                 ...           ...   \n",
       "328                                               None    283,906.15   \n",
       "329                                               None    907,598.60   \n",
       "330                                               None      6,287.50   \n",
       "331                                               None  7,189,374.56   \n",
       "332                                               None      2,064.88   \n",
       "\n",
       "     ValorEmpenhado  ValorLiquidado    ValorPago  \n",
       "0         38,090.77       38,090.77    38,090.77  \n",
       "1        777,039.66      777,039.66   777,039.66  \n",
       "2     10,632,490.00    8,098,646.19 8,098,646.19  \n",
       "3        494,938.00      228,709.46   228,709.46  \n",
       "4      1,073,000.00    1,049,382.38 1,049,382.38  \n",
       "..              ...             ...          ...  \n",
       "328            0.00      283,906.15   283,906.15  \n",
       "329            0.00      907,598.60   907,598.60  \n",
       "330            0.00        6,287.50     6,287.50  \n",
       "331            0.00    7,189,374.56 7,189,374.56  \n",
       "332            0.00        2,064.88     2,064.88  \n",
       "\n",
       "[333 rows x 20 columns]"
      ]
     },
     "execution_count": 92,
     "metadata": {},
     "output_type": "execute_result"
    }
   ],
   "source": [
    "df"
   ]
  },
  {
   "cell_type": "markdown",
   "id": "725003b4",
   "metadata": {},
   "source": [
    "Primeiro vamos explorar a estrutura do conjunto de dados"
   ]
  },
  {
   "cell_type": "code",
   "execution_count": 93,
   "id": "ee35282a",
   "metadata": {},
   "outputs": [
    {
     "name": "stdout",
     "output_type": "stream",
     "text": [
      "<class 'pandas.core.frame.DataFrame'>\n",
      "RangeIndex: 333 entries, 0 to 332\n",
      "Data columns (total 20 columns):\n",
      " #   Column                       Non-Null Count  Dtype  \n",
      "---  ------                       --------------  -----  \n",
      " 0   Ano                          333 non-null    int64  \n",
      " 1   Codigo                       333 non-null    object \n",
      " 2   Unidade                      333 non-null    object \n",
      " 3   Diretoria                    333 non-null    object \n",
      " 4   Praca                        333 non-null    object \n",
      " 5   Conta                        333 non-null    object \n",
      " 6   ContaNiveisSuperiores        333 non-null    object \n",
      " 7   ContaDescricao               333 non-null    object \n",
      " 8   ContaTipo                    333 non-null    object \n",
      " 9   ContaEstatisticaFiscal       333 non-null    object \n",
      " 10  EstatisticaFiscalContaOrdem  333 non-null    int64  \n",
      " 11  ContaGrupo                   333 non-null    object \n",
      " 12  GrupoContaOrdem              333 non-null    int64  \n",
      " 13  ContaSubgrupo                333 non-null    object \n",
      " 14  SubgrupoContaOrdem           333 non-null    int64  \n",
      " 15  ContaFuncao                  163 non-null    object \n",
      " 16  ValorDotacao                 333 non-null    float64\n",
      " 17  ValorEmpenhado               333 non-null    float64\n",
      " 18  ValorLiquidado               333 non-null    float64\n",
      " 19  ValorPago                    333 non-null    float64\n",
      "dtypes: float64(4), int64(4), object(12)\n",
      "memory usage: 52.2+ KB\n"
     ]
    }
   ],
   "source": [
    "df.info()"
   ]
  },
  {
   "cell_type": "markdown",
   "id": "e754e38a",
   "metadata": {},
   "source": [
    "Aparentemente temos dados faltantes, mas vamos comprovar:"
   ]
  },
  {
   "cell_type": "code",
   "execution_count": 94,
   "id": "fac714fa",
   "metadata": {},
   "outputs": [
    {
     "data": {
      "text/plain": [
       "Ano                              0\n",
       "Codigo                           0\n",
       "Unidade                          0\n",
       "Diretoria                        0\n",
       "Praca                            0\n",
       "Conta                            0\n",
       "ContaNiveisSuperiores            0\n",
       "ContaDescricao                   0\n",
       "ContaTipo                        0\n",
       "ContaEstatisticaFiscal           0\n",
       "EstatisticaFiscalContaOrdem      0\n",
       "ContaGrupo                       0\n",
       "GrupoContaOrdem                  0\n",
       "ContaSubgrupo                    0\n",
       "SubgrupoContaOrdem               0\n",
       "ContaFuncao                    170\n",
       "ValorDotacao                     0\n",
       "ValorEmpenhado                   0\n",
       "ValorLiquidado                   0\n",
       "ValorPago                        0\n",
       "dtype: int64"
      ]
     },
     "execution_count": 94,
     "metadata": {},
     "output_type": "execute_result"
    }
   ],
   "source": [
    "df.isnull().sum()"
   ]
  },
  {
   "cell_type": "markdown",
   "id": "466d005e",
   "metadata": {},
   "source": [
    "Ajustando os dados faltantes da coluna \"ContaFuncao\", de nulo para um valor padrão, pois se trata de um campo de texto descritivo."
   ]
  },
  {
   "cell_type": "code",
   "execution_count": 95,
   "id": "5a7e8515",
   "metadata": {},
   "outputs": [
    {
     "data": {
      "text/plain": [
       "Ano                            0\n",
       "Codigo                         0\n",
       "Unidade                        0\n",
       "Diretoria                      0\n",
       "Praca                          0\n",
       "Conta                          0\n",
       "ContaNiveisSuperiores          0\n",
       "ContaDescricao                 0\n",
       "ContaTipo                      0\n",
       "ContaEstatisticaFiscal         0\n",
       "EstatisticaFiscalContaOrdem    0\n",
       "ContaGrupo                     0\n",
       "GrupoContaOrdem                0\n",
       "ContaSubgrupo                  0\n",
       "SubgrupoContaOrdem             0\n",
       "ContaFuncao                    0\n",
       "ValorDotacao                   0\n",
       "ValorEmpenhado                 0\n",
       "ValorLiquidado                 0\n",
       "ValorPago                      0\n",
       "dtype: int64"
      ]
     },
     "execution_count": 95,
     "metadata": {},
     "output_type": "execute_result"
    }
   ],
   "source": [
    "df['ContaFuncao'] = df['ContaFuncao'].fillna('Valor Desconhecido')\n",
    "df.isnull().sum()"
   ]
  },
  {
   "cell_type": "markdown",
   "id": "055d37d1",
   "metadata": {},
   "source": [
    "Não foi necessário a padronização de formatos"
   ]
  },
  {
   "cell_type": "markdown",
   "id": "32f327ca",
   "metadata": {},
   "source": [
    "## Estatísticas Descritivas\n",
    "\n",
    "Nosso conjunto de dados está com muitas colunas, vamos nos concentrar em um tema específico para continuar com a análise. \n",
    "\n",
    "Vamos nos concentrar nas séries de \"Unidade\" e \"ValorPago\"."
   ]
  },
  {
   "cell_type": "code",
   "execution_count": 96,
   "id": "c04cf923",
   "metadata": {},
   "outputs": [],
   "source": [
    "col_unidade = ['Unidade']\n",
    "col_valorpago = ['ValorPago']"
   ]
  },
  {
   "cell_type": "code",
   "execution_count": 97,
   "id": "0d29b8d0",
   "metadata": {},
   "outputs": [],
   "source": [
    "cols_selecionadas = col_unidade + col_valorpago\n",
    "df_uv = df[cols_selecionadas].copy()"
   ]
  },
  {
   "cell_type": "code",
   "execution_count": 98,
   "id": "31545789",
   "metadata": {},
   "outputs": [
    {
     "data": {
      "text/html": [
       "<div>\n",
       "<style scoped>\n",
       "    .dataframe tbody tr th:only-of-type {\n",
       "        vertical-align: middle;\n",
       "    }\n",
       "\n",
       "    .dataframe tbody tr th {\n",
       "        vertical-align: top;\n",
       "    }\n",
       "\n",
       "    .dataframe thead th {\n",
       "        text-align: right;\n",
       "    }\n",
       "</style>\n",
       "<table border=\"1\" class=\"dataframe\">\n",
       "  <thead>\n",
       "    <tr style=\"text-align: right;\">\n",
       "      <th></th>\n",
       "      <th>Unidade</th>\n",
       "      <th>ValorPago</th>\n",
       "    </tr>\n",
       "  </thead>\n",
       "  <tbody>\n",
       "    <tr>\n",
       "      <th>0</th>\n",
       "      <td>MECIR</td>\n",
       "      <td>38,090.77</td>\n",
       "    </tr>\n",
       "    <tr>\n",
       "      <th>1</th>\n",
       "      <td>DEPIN</td>\n",
       "      <td>777,039.66</td>\n",
       "    </tr>\n",
       "    <tr>\n",
       "      <th>2</th>\n",
       "      <td>DEPIN</td>\n",
       "      <td>8,098,646.19</td>\n",
       "    </tr>\n",
       "    <tr>\n",
       "      <th>3</th>\n",
       "      <td>DEPIN</td>\n",
       "      <td>228,709.46</td>\n",
       "    </tr>\n",
       "    <tr>\n",
       "      <th>4</th>\n",
       "      <td>DEPIN</td>\n",
       "      <td>1,049,382.38</td>\n",
       "    </tr>\n",
       "    <tr>\n",
       "      <th>...</th>\n",
       "      <td>...</td>\n",
       "      <td>...</td>\n",
       "    </tr>\n",
       "    <tr>\n",
       "      <th>328</th>\n",
       "      <td>DEAFI</td>\n",
       "      <td>283,906.15</td>\n",
       "    </tr>\n",
       "    <tr>\n",
       "      <th>329</th>\n",
       "      <td>DEAFI</td>\n",
       "      <td>907,598.60</td>\n",
       "    </tr>\n",
       "    <tr>\n",
       "      <th>330</th>\n",
       "      <td>DEAFI</td>\n",
       "      <td>6,287.50</td>\n",
       "    </tr>\n",
       "    <tr>\n",
       "      <th>331</th>\n",
       "      <td>DEAFI</td>\n",
       "      <td>7,189,374.56</td>\n",
       "    </tr>\n",
       "    <tr>\n",
       "      <th>332</th>\n",
       "      <td>DEAFI</td>\n",
       "      <td>2,064.88</td>\n",
       "    </tr>\n",
       "  </tbody>\n",
       "</table>\n",
       "<p>333 rows × 2 columns</p>\n",
       "</div>"
      ],
      "text/plain": [
       "    Unidade    ValorPago\n",
       "0     MECIR    38,090.77\n",
       "1     DEPIN   777,039.66\n",
       "2     DEPIN 8,098,646.19\n",
       "3     DEPIN   228,709.46\n",
       "4     DEPIN 1,049,382.38\n",
       "..      ...          ...\n",
       "328   DEAFI   283,906.15\n",
       "329   DEAFI   907,598.60\n",
       "330   DEAFI     6,287.50\n",
       "331   DEAFI 7,189,374.56\n",
       "332   DEAFI     2,064.88\n",
       "\n",
       "[333 rows x 2 columns]"
      ]
     },
     "execution_count": 98,
     "metadata": {},
     "output_type": "execute_result"
    }
   ],
   "source": [
    "df[cols_selecionadas]"
   ]
  },
  {
   "cell_type": "code",
   "execution_count": 99,
   "id": "272fbd1f",
   "metadata": {},
   "outputs": [
    {
     "data": {
      "text/html": [
       "<div>\n",
       "<style scoped>\n",
       "    .dataframe tbody tr th:only-of-type {\n",
       "        vertical-align: middle;\n",
       "    }\n",
       "\n",
       "    .dataframe tbody tr th {\n",
       "        vertical-align: top;\n",
       "    }\n",
       "\n",
       "    .dataframe thead th {\n",
       "        text-align: right;\n",
       "    }\n",
       "</style>\n",
       "<table border=\"1\" class=\"dataframe\">\n",
       "  <thead>\n",
       "    <tr style=\"text-align: right;\">\n",
       "      <th></th>\n",
       "      <th>Unidade</th>\n",
       "      <th>ValorPago</th>\n",
       "    </tr>\n",
       "  </thead>\n",
       "  <tbody>\n",
       "    <tr>\n",
       "      <th>0</th>\n",
       "      <td>MECIR</td>\n",
       "      <td>38,090.77</td>\n",
       "    </tr>\n",
       "    <tr>\n",
       "      <th>1</th>\n",
       "      <td>DEPIN</td>\n",
       "      <td>777,039.66</td>\n",
       "    </tr>\n",
       "    <tr>\n",
       "      <th>2</th>\n",
       "      <td>DEPIN</td>\n",
       "      <td>8,098,646.19</td>\n",
       "    </tr>\n",
       "    <tr>\n",
       "      <th>3</th>\n",
       "      <td>DEPIN</td>\n",
       "      <td>228,709.46</td>\n",
       "    </tr>\n",
       "    <tr>\n",
       "      <th>4</th>\n",
       "      <td>DEPIN</td>\n",
       "      <td>1,049,382.38</td>\n",
       "    </tr>\n",
       "    <tr>\n",
       "      <th>...</th>\n",
       "      <td>...</td>\n",
       "      <td>...</td>\n",
       "    </tr>\n",
       "    <tr>\n",
       "      <th>328</th>\n",
       "      <td>DEAFI</td>\n",
       "      <td>283,906.15</td>\n",
       "    </tr>\n",
       "    <tr>\n",
       "      <th>329</th>\n",
       "      <td>DEAFI</td>\n",
       "      <td>907,598.60</td>\n",
       "    </tr>\n",
       "    <tr>\n",
       "      <th>330</th>\n",
       "      <td>DEAFI</td>\n",
       "      <td>6,287.50</td>\n",
       "    </tr>\n",
       "    <tr>\n",
       "      <th>331</th>\n",
       "      <td>DEAFI</td>\n",
       "      <td>7,189,374.56</td>\n",
       "    </tr>\n",
       "    <tr>\n",
       "      <th>332</th>\n",
       "      <td>DEAFI</td>\n",
       "      <td>2,064.88</td>\n",
       "    </tr>\n",
       "  </tbody>\n",
       "</table>\n",
       "<p>333 rows × 2 columns</p>\n",
       "</div>"
      ],
      "text/plain": [
       "    Unidade    ValorPago\n",
       "0     MECIR    38,090.77\n",
       "1     DEPIN   777,039.66\n",
       "2     DEPIN 8,098,646.19\n",
       "3     DEPIN   228,709.46\n",
       "4     DEPIN 1,049,382.38\n",
       "..      ...          ...\n",
       "328   DEAFI   283,906.15\n",
       "329   DEAFI   907,598.60\n",
       "330   DEAFI     6,287.50\n",
       "331   DEAFI 7,189,374.56\n",
       "332   DEAFI     2,064.88\n",
       "\n",
       "[333 rows x 2 columns]"
      ]
     },
     "execution_count": 99,
     "metadata": {},
     "output_type": "execute_result"
    }
   ],
   "source": [
    "df_uv"
   ]
  },
  {
   "cell_type": "code",
   "execution_count": 100,
   "id": "45e3f2ab",
   "metadata": {},
   "outputs": [
    {
     "data": {
      "text/html": [
       "<div>\n",
       "<style scoped>\n",
       "    .dataframe tbody tr th:only-of-type {\n",
       "        vertical-align: middle;\n",
       "    }\n",
       "\n",
       "    .dataframe tbody tr th {\n",
       "        vertical-align: top;\n",
       "    }\n",
       "\n",
       "    .dataframe thead th {\n",
       "        text-align: right;\n",
       "    }\n",
       "</style>\n",
       "<table border=\"1\" class=\"dataframe\">\n",
       "  <thead>\n",
       "    <tr style=\"text-align: right;\">\n",
       "      <th></th>\n",
       "      <th>ValorPago</th>\n",
       "    </tr>\n",
       "  </thead>\n",
       "  <tbody>\n",
       "    <tr>\n",
       "      <th>count</th>\n",
       "      <td>333.00</td>\n",
       "    </tr>\n",
       "    <tr>\n",
       "      <th>mean</th>\n",
       "      <td>5,360,786,052.17</td>\n",
       "    </tr>\n",
       "    <tr>\n",
       "      <th>std</th>\n",
       "      <td>29,550,831,442.73</td>\n",
       "    </tr>\n",
       "    <tr>\n",
       "      <th>min</th>\n",
       "      <td>-249,114.04</td>\n",
       "    </tr>\n",
       "    <tr>\n",
       "      <th>25%</th>\n",
       "      <td>44,241.92</td>\n",
       "    </tr>\n",
       "    <tr>\n",
       "      <th>50%</th>\n",
       "      <td>461,747.97</td>\n",
       "    </tr>\n",
       "    <tr>\n",
       "      <th>75%</th>\n",
       "      <td>21,630,685.09</td>\n",
       "    </tr>\n",
       "    <tr>\n",
       "      <th>max</th>\n",
       "      <td>442,203,148,170.93</td>\n",
       "    </tr>\n",
       "  </tbody>\n",
       "</table>\n",
       "</div>"
      ],
      "text/plain": [
       "               ValorPago\n",
       "count             333.00\n",
       "mean    5,360,786,052.17\n",
       "std    29,550,831,442.73\n",
       "min          -249,114.04\n",
       "25%            44,241.92\n",
       "50%           461,747.97\n",
       "75%        21,630,685.09\n",
       "max   442,203,148,170.93"
      ]
     },
     "execution_count": 100,
     "metadata": {},
     "output_type": "execute_result"
    }
   ],
   "source": [
    "df_uv.describe()"
   ]
  },
  {
   "cell_type": "markdown",
   "id": "0f459516",
   "metadata": {},
   "source": [
    "## Estudo da Média"
   ]
  },
  {
   "cell_type": "markdown",
   "id": "04903bbb",
   "metadata": {},
   "source": [
    "Temos na coluna \"Unidade\" o nome de cada unidade o OAM, no total são 9 Unidades."
   ]
  },
  {
   "cell_type": "code",
   "execution_count": 101,
   "id": "8c825827",
   "metadata": {},
   "outputs": [
    {
     "name": "stdout",
     "output_type": "stream",
     "text": [
      "Unidades: ['MECIR', 'DEPIN', 'DERIN', 'DEINF', 'DESEG', 'DERAD', 'DEMAB', 'DEBAN', 'DEAFI']\n",
      "Quantidade: 9\n"
     ]
    }
   ],
   "source": [
    "print('Unidades:', df_uv['Unidade'].unique().tolist())\n",
    "print('Quantidade:', len(df_uv['Unidade'].value_counts().to_list()))\n"
   ]
  },
  {
   "cell_type": "markdown",
   "id": "8592f1a0",
   "metadata": {},
   "source": [
    "Valor total de cada Unidade:"
   ]
  },
  {
   "cell_type": "code",
   "execution_count": 102,
   "id": "b549af3d",
   "metadata": {},
   "outputs": [
    {
     "name": "stdout",
     "output_type": "stream",
     "text": [
      "Unidade\n",
      "DEAFI   1,783,936,958,895.73\n",
      "DEBAN               1,500.00\n",
      "DEINF         112,319,708.00\n",
      "DEMAB                  18.00\n",
      "DEPIN          32,419,822.96\n",
      "DERAD             974,852.39\n",
      "DERIN             865,267.34\n",
      "DESEG         124,966,312.56\n",
      "MECIR         933,248,995.31\n",
      "Name: ValorPago, dtype: float64\n"
     ]
    }
   ],
   "source": [
    "soma_agrupada = df_uv.groupby('Unidade')['ValorPago'].sum()\n",
    "\n",
    "print(soma_agrupada)"
   ]
  },
  {
   "cell_type": "markdown",
   "id": "f69482e6",
   "metadata": {},
   "source": [
    "Média das Unidades:"
   ]
  },
  {
   "cell_type": "code",
   "execution_count": 103,
   "id": "30373817",
   "metadata": {},
   "outputs": [
    {
     "name": "stdout",
     "output_type": "stream",
     "text": [
      "Média do valor pago de cada Unidade: R$ 198.349.083.930,25\n"
     ]
    }
   ],
   "source": [
    "media = soma_agrupada.mean()\n",
    "\n",
    "print('Média do valor pago de cada Unidade:', locale.currency(media, grouping=True, symbol=True))"
   ]
  },
  {
   "cell_type": "markdown",
   "id": "55335281",
   "metadata": {},
   "source": [
    "Mediana:"
   ]
  },
  {
   "cell_type": "code",
   "execution_count": 104,
   "id": "54bcb66e",
   "metadata": {},
   "outputs": [
    {
     "name": "stdout",
     "output_type": "stream",
     "text": [
      "Mediana do valor pago de cada Unidade: R$ 32.419.822,96\n"
     ]
    }
   ],
   "source": [
    "soma_agrupada_ordenada = soma_agrupada.sort_values()\n",
    "\n",
    "mediana = soma_agrupada_ordenada.median()\n",
    "\n",
    "print('Mediana do valor pago de cada Unidade:', locale.currency(mediana, grouping=True, symbol=True))"
   ]
  },
  {
   "cell_type": "markdown",
   "id": "0963eace",
   "metadata": {},
   "source": [
    "### Variância e Desvio-Padrão"
   ]
  },
  {
   "cell_type": "code",
   "execution_count": 105,
   "id": "39a4e2ff",
   "metadata": {},
   "outputs": [
    {
     "name": "stdout",
     "output_type": "stream",
     "text": [
      "Variância:  3.142611935210147e+23\n",
      "Desvio-padrão:  560590040511.794\n"
     ]
    }
   ],
   "source": [
    "print(\"Variância: \", soma_agrupada.var(ddof=0))\n",
    "print(\"Desvio-padrão: \", soma_agrupada.std(ddof=0))"
   ]
  },
  {
   "cell_type": "markdown",
   "id": "75279486",
   "metadata": {},
   "source": [
    "## Visualizações"
   ]
  },
  {
   "cell_type": "markdown",
   "id": "00d80641",
   "metadata": {},
   "source": [
    "**Histograma**"
   ]
  },
  {
   "cell_type": "code",
   "execution_count": 106,
   "id": "72081d33",
   "metadata": {},
   "outputs": [
    {
     "data": {
      "image/png": "[encoded data removed]",
      "text/plain": [
       "<Figure size 640x480 with 1 Axes>"
      ]
     },
     "metadata": {},
     "output_type": "display_data"
    }
   ],
   "source": [
    "import matplotlib.pyplot as plt\n",
    "\n",
    "plt.hist(soma_agrupada)\n",
    "plt.title(\"Histograma do valor pago de cada Unidade\")\n",
    "plt.show()"
   ]
  },
  {
   "cell_type": "markdown",
   "id": "e21bccbf",
   "metadata": {},
   "source": [
    "**Série temporal**"
   ]
  },
  {
   "cell_type": "code",
   "execution_count": 107,
   "id": "fdf39ed2",
   "metadata": {},
   "outputs": [
    {
     "data": {
      "image/png": "[encoded data removed]",
      "text/plain": [
       "<Figure size 640x480 with 1 Axes>"
      ]
     },
     "metadata": {},
     "output_type": "display_data"
    }
   ],
   "source": [
    "plt.plot(soma_agrupada.index, soma_agrupada.values, marker='o', linestyle='--')\n",
    "plt.grid()\n",
    "plt.show()"
   ]
  },
  {
   "cell_type": "markdown",
   "id": "65088794",
   "metadata": {},
   "source": [
    "**Box-plot**"
   ]
  },
  {
   "cell_type": "code",
   "execution_count": 108,
   "id": "bb587865",
   "metadata": {},
   "outputs": [
    {
     "data": {
      "image/png": "[encoded data removed]",
      "text/plain": [
       "<Figure size 640x480 with 1 Axes>"
      ]
     },
     "metadata": {},
     "output_type": "display_data"
    }
   ],
   "source": [
    "plt.boxplot(soma_agrupada.dropna())\n",
    "plt.show()"
   ]
  },
  {
   "cell_type": "markdown",
   "id": "b3545df7",
   "metadata": {},
   "source": [
    "## Gerando o arquivo .CSV com os dados agrupados da cada Unidade: ##"
   ]
  },
  {
   "cell_type": "code",
   "execution_count": 109,
   "id": "03053eaa",
   "metadata": {},
   "outputs": [
    {
     "name": "stdout",
     "output_type": "stream",
     "text": [
      "               DEAFI    DEBAN          DEINF  DEMAB         DEPIN      DERAD      DERIN          DESEG          MECIR\n",
      "1,783,936,958,895.73 1,500.00 112,319,708.00  18.00 32,419,822.96 974,852.39 865,267.34 124,966,312.56 933,248,995.31\n"
     ]
    }
   ],
   "source": [
    "df_resultado = pd.DataFrame(soma_agrupada).T.reset_index(drop=True)\n",
    "\n",
    "df_resultado.columns.name = None\n",
    "\n",
    "print(df_resultado.to_string(index=False))\n",
    "\n",
    "df_resultado.to_csv(\"src/datasets/unidade_e_valor_pago.csv\", sep=\";\", decimal=\",\", index=False)"
   ]
  },
  {
   "cell_type": "markdown",
   "id": "aaafdf44",
   "metadata": {},
   "source": [
    "Gerando o arquivo .CSV com os dados com decimal com virgula e sem valores nulos."
   ]
  },
  {
   "cell_type": "code",
   "execution_count": 110,
   "id": "4a48ef12",
   "metadata": {},
   "outputs": [],
   "source": [
    "df.to_csv(\"src/datasets/oam_valores_br.csv\", sep=\";\", decimal=\",\", index=False)"
   ]
  }
 ],
 "metadata": {
  "kernelspec": {
   "display_name": ".venv",
   "language": "python",
   "name": "python3"
  },
  "language_info": {
   "codemirror_mode": {
    "name": "ipython",
    "version": 3
   },
   "file_extension": ".py",
   "mimetype": "text/x-python",
   "name": "python",
   "nbconvert_exporter": "python",
   "pygments_lexer": "ipython3",
   "version": "3.13.0"
  }
 },
 "nbformat": 4,
 "nbformat_minor": 5
}
